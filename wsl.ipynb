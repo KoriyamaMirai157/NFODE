{
 "cells": [
  {
   "cell_type": "code",
   "execution_count": 16,
   "metadata": {
    "ExecuteTime": {
     "end_time": "2024-10-11T16:13:47.161789Z",
     "start_time": "2024-10-11T16:13:47.147672Z"
    }
   },
   "outputs": [],
   "source": [
    "import torch\n",
    "import torch.nn as nn\n",
    "import torch.optim as optim\n",
    "import numpy as np\n",
    "import matplotlib.pyplot as plt\n",
    "import nfode\n",
    "import torch.jit\n",
    "device = torch.device('cpu')\n",
    "import random\n",
    "from datetime import datetime\n",
    "\n",
    "if __name__ == \"__main__\":\n",
    "    data = np.load('data_set.npz')\n",
    "    t_data = data['t_data']\n",
    "    x_data = data['x_data']\n",
    "    \n",
    "    x_data = torch.tensor(x_data, dtype=torch.float32).requires_grad_(True).to(device)\n",
    "    t_data = torch.tensor(t_data, dtype=torch.float32).requires_grad_(True).to(device)\n",
    "\n",
    "input_dim=2\n",
    "output_dim=2\n",
    "inner_dim=10000\n",
    "class ODEModel(nn.Module):\n",
    "    def __init__(self):\n",
    "        super(ODEModel, self).__init__()\n",
    "        self.fc1 = nn.Linear(input_dim, inner_dim)\n",
    "        self.fc2 = nn.Linear(inner_dim, output_dim)\n",
    "\n",
    "    def forward(self, x):\n",
    "        x = torch.relu(self.fc1(x))\n",
    "        x = self.fc2(x)\n",
    "        return x\n",
    "\n",
    "model = ODEModel()\n",
    "nfode.initialize_params_uniform(model)"
   ]
  },
  {
   "cell_type": "code",
   "execution_count": 17,
   "metadata": {
    "ExecuteTime": {
     "end_time": "2024-10-11T16:27:57.138634Z",
     "start_time": "2024-10-11T16:13:47.225337Z"
    }
   },
   "outputs": [
    {
     "name": "stdout",
     "output_type": "stream",
     "text": [
      "1 10 / 600 17:40:20 cpu best real loss: 100\n",
      "1 20 / 600 17:40:35 cpu best real loss: 100\n",
      "1 30 / 600 17:40:49 cpu best real loss: 100\n",
      "1 40 / 600 17:41:03 cpu best real loss: 100\n",
      "1 50 / 600 17:41:18 cpu best real loss: 100\n",
      "1 60 / 600 17:41:34 cpu best real loss: 100\n",
      "1 70 / 600 17:41:50 cpu best real loss: 100\n",
      "1 80 / 600 17:42:05 cpu best real loss: 100\n",
      "1 90 / 600 17:42:21 cpu best real loss: 100\n",
      "1 100 / 600 17:42:35 cpu best real loss: 100\n",
      "1 110 / 600 17:42:51 cpu best real loss: 100\n",
      "1 120 / 600 17:43:06 cpu best real loss: 100\n",
      "1 130 / 600 17:43:21 cpu best real loss: 100\n",
      "1 140 / 600 17:43:37 cpu best real loss: 100\n",
      "1 150 / 600 17:43:53 cpu best real loss: 100\n",
      "1 160 / 600 17:44:13 cpu best real loss: 100\n",
      "1 170 / 600 17:44:30 cpu best real loss: 100\n",
      "1 180 / 600 17:44:47 cpu best real loss: 100\n",
      "1 190 / 600 17:45:03 cpu best real loss: 100\n",
      "1 200 / 600 17:45:20 cpu best real loss: 100\n",
      "1 210 / 600 17:45:36 cpu best real loss: 100\n",
      "1 220 / 600 17:45:51 cpu best real loss: 100\n",
      "1 230 / 600 17:46:07 cpu best real loss: 100\n",
      "1 240 / 600 17:46:22 cpu best real loss: 100\n",
      "1 250 / 600 17:46:37 cpu best real loss: 100\n",
      "1 260 / 600 17:46:53 cpu best real loss: 100\n",
      "1 270 / 600 17:47:08 cpu best real loss: 100\n",
      "1 280 / 600 17:47:23 cpu best real loss: 100\n",
      "1 290 / 600 17:47:37 cpu best real loss: 100\n",
      "1 300 / 600 17:47:53 cpu best real loss: 100\n",
      "1 310 / 600 17:48:09 cpu best real loss: 100\n",
      "1 320 / 600 17:48:24 cpu best real loss: 100\n",
      "1 330 / 600 17:48:39 cpu best real loss: 100\n",
      "1 340 / 600 17:48:54 cpu best real loss: 100\n",
      "1 350 / 600 17:49:10 cpu best real loss: 100\n",
      "1 360 / 600 17:49:24 cpu best real loss: 100\n",
      "1 370 / 600 17:49:39 cpu best real loss: 100\n",
      "1 380 / 600 17:49:53 cpu best real loss: 100\n",
      "1 390 / 600 17:50:11 cpu best real loss: 100\n",
      "1 400 / 600 17:50:26 cpu best real loss: 100\n",
      "1 410 / 600 17:50:45 cpu best real loss: 100\n",
      "1 420 / 600 17:51:01 cpu best real loss: 100\n",
      "1 430 / 600 17:51:17 cpu best real loss: 100\n",
      "1 440 / 600 17:51:35 cpu best real loss: 100\n",
      "1 450 / 600 17:51:50 cpu best real loss: 100\n",
      "1 460 / 600 17:52:05 cpu best real loss: 100\n",
      "1 470 / 600 17:52:20 cpu best real loss: 100\n",
      "1 480 / 600 17:52:35 cpu best real loss: 100\n",
      "1 490 / 600 17:52:50 cpu best real loss: 100\n",
      "1 500 / 600 17:53:05 cpu best real loss: 100\n",
      "1 510 / 600 17:53:20 cpu best real loss: 100\n",
      "1 520 / 600 17:53:35 cpu best real loss: 100\n",
      "1 530 / 600 17:53:50 cpu best real loss: 100\n",
      "1 540 / 600 17:54:05 cpu best real loss: 100\n",
      "1 550 / 600 17:54:20 cpu best real loss: 100\n",
      "1 560 / 600 17:54:36 cpu best real loss: 100\n",
      "1 570 / 600 17:54:51 cpu best real loss: 100\n",
      "1 580 / 600 17:55:05 cpu best real loss: 100\n",
      "1 590 / 600 17:55:20 cpu best real loss: 100\n",
      "1 600 / 600 17:55:35 cpu best real loss: 100\n"
     ]
    }
   ],
   "source": [
    "num_epochs = 600\n",
    "k = 1\n",
    "lr = 0.1\n",
    "milestones = []\n",
    "gamma = 0.1\n",
    "model, x_preds, loss_curve, real_loss_curve = nfode.train(model, device, t_data, x_data, num_epochs = num_epochs, k=k, lr=lr, milestones=milestones, gamma=gamma)\n",
    "torch.save(model, 'model.pt')"
   ]
  },
  {
   "cell_type": "code",
   "execution_count": 18,
   "metadata": {
    "ExecuteTime": {
     "end_time": "2024-10-11T16:27:57.777341Z",
     "start_time": "2024-10-11T16:27:57.184813Z"
    }
   },
   "outputs": [
    {
     "data": {
      "image/png": "[encoded data removed]",
      "text/plain": [
       "<Figure size 640x480 with 1 Axes>"
      ]
     },
     "metadata": {},
     "output_type": "display_data"
    }
   ],
   "source": [
    "plt.plot(real_loss_curve)\n",
    "plt.yscale('log')"
   ]
  },
  {
   "cell_type": "code",
   "execution_count": 19,
   "metadata": {
    "ExecuteTime": {
     "end_time": "2024-10-11T16:27:58.235657Z",
     "start_time": "2024-10-11T16:27:57.851546Z"
    }
   },
   "outputs": [
    {
     "data": {
      "text/plain": [
       "[<matplotlib.lines.Line2D at 0x7fa2bb8fa4c0>,\n",
       " <matplotlib.lines.Line2D at 0x7fa2bb8fa4f0>]"
      ]
     },
     "execution_count": 19,
     "metadata": {},
     "output_type": "execute_result"
    },
    {
     "data": {
      "image/png": "[encoded data removed]",
      "text/plain": [
       "<Figure size 640x480 with 1 Axes>"
      ]
     },
     "metadata": {},
     "output_type": "display_data"
    }
   ],
   "source": [
    "#model = torch.load('model.pt')\n",
    "data = np.load('data_test.npz')\n",
    "t_data_test = data['t_data']\n",
    "x_data_test = data['x_data']\n",
    "x_data_test = torch.tensor(x_data_test, dtype=torch.float32).to(device)\n",
    "t_data_test = torch.tensor(t_data_test, dtype=torch.float32).unsqueeze(1).to(device)\n",
    "x0 = x_data_test[:,0]\n",
    "model.to(device)\n",
    "x_preds_test = nfode.predict(model, t_data_test, x0)\n",
    "t_data_test = t_data_test.cpu().detach().numpy()\n",
    "x_data_test = x_data_test.cpu().detach().numpy()\n",
    "plt.plot(t_data_test, x_data_test.T)\n",
    "plt.plot(t_data_test, x_preds_test)"
   ]
  }
 ],
 "metadata": {
  "kernelspec": {
   "display_name": "gpuenv",
   "language": "python",
   "name": "python3"
  },
  "language_info": {
   "codemirror_mode": {
    "name": "ipython",
    "version": 3
   },
   "file_extension": ".py",
   "mimetype": "text/x-python",
   "name": "python",
   "nbconvert_exporter": "python",
   "pygments_lexer": "ipython3",
   "version": "3.8.19"
  }
 },
 "nbformat": 4,
 "nbformat_minor": 2
}
